{
 "cells": [
  {
   "cell_type": "code",
   "execution_count": 1,
   "metadata": {},
   "outputs": [
    {
     "name": "stdout",
     "output_type": "stream",
     "text": [
      "4.5.1\n"
     ]
    }
   ],
   "source": [
    "import cv2\n",
    "import numpy as np\n",
    "print(cv2.__version__)"
   ]
  },
  {
   "cell_type": "code",
   "execution_count": 10,
   "metadata": {},
   "outputs": [],
   "source": [
    "def get_ht(s, d):\n",
    "    a = np.array([[s[0][0], s[0][1], 1, 0, 0, 0, -s[0][0] * d[0][0], -s[0][1] * d[0][0]],\n",
    "         [s[1][0], s[1][1], 1, 0, 0, 0, -s[1][0] * d[1][0], -s[1][1] * d[1][0]],\n",
    "         [s[2][0], s[2][1], 1, 0, 0, 0, -s[2][0] * d[2][0], -s[2][1] * d[2][0]],\n",
    "         [s[3][0], s[3][1], 1, 0, 0, 0, -s[3][0] * d[3][0], -s[3][1] * d[3][0]],\n",
    "         [0, 0, 0, s[0][0], s[0][1], 1, -s[0][0] * d[0][1], -s[0][1] * d[0][1]],\n",
    "         [0, 0, 0, s[1][0], s[1][1], 1, -s[1][0] * d[1][1], -s[1][1] * d[1][1]],\n",
    "         [0, 0, 0, s[2][0], s[2][1], 1, -s[2][0] * d[2][1], -s[2][1] * d[2][1]],\n",
    "         [0, 0, 0, s[3][0], s[3][1], 1, -s[3][0] * d[3][1], -s[3][1] * d[3][1]]])\n",
    "    \n",
    "    b = np.array([d[0][0], d[1][0], d[2][0], d[3][0], d[0][1], d[1][1], d[2][1], d[3][1]])\n",
    "    \n",
    "    print('a.shape = ', a.shape)\n",
    "    print('b.shape = ', b.shape)\n",
    "    \n",
    "    invA = np.linalg.inv(a)\n",
    "    ht = np.dot(invA, b)\n",
    "    return ht"
   ]
  },
  {
   "cell_type": "code",
   "execution_count": 12,
   "metadata": {},
   "outputs": [],
   "source": [
    "def transform(h, s):\n",
    "    x = (h[0]*s[0] + h[1]*s[1] + h[2])/(h[6]*s[0] + h[7]*s[1] + 1)\n",
    "    y = (h[3]*s[0] + h[4]*s[1] + h[5])/(h[6]*s[0] + h[7]*s[1] + 1)\n",
    "    \n",
    "    return x, y"
   ]
  },
  {
   "cell_type": "code",
   "execution_count": 3,
   "metadata": {},
   "outputs": [],
   "source": [
    "pixel_points = [[1019, 205],[378, 68],[262, 716],[950, 839]]\n",
    "real_points = [[0, 0],[70, 0],[70, 70],[0, 70]]\n",
    "\n",
    "ref_points = [[768, 806], [556, 762], [650, 462]]"
   ]
  },
  {
   "cell_type": "code",
   "execution_count": 14,
   "metadata": {},
   "outputs": [
    {
     "name": "stdout",
     "output_type": "stream",
     "text": [
      "a.shape =  (8, 8)\n",
      "b.shape =  (8,)\n",
      "h =  [-1.04531209e-01 -1.13764250e-02  1.08849469e+02 -2.32908171e-02\n",
      "  1.08973823e-01  1.39370889e+00 -7.08758982e-05  9.21116530e-05]\n",
      "h.shape =  (8,)\n",
      "h[0,0] = -0.10453120902190115\n",
      "pix 768, 806 => real: x = 19.023264464787882, y = 69.95353202390346\n",
      "pix 556, 762 => real: x = 40.805211774533895, y = 69.34741017010587\n",
      "pix 650, 462 => real: x = 35.77397572709498, y = 36.72964279773875\n"
     ]
    }
   ],
   "source": [
    "h = get_ht(pixel_points, real_points)\n",
    "print('h = ', h)\n",
    "print('h.shape = ', h.shape)\n",
    "print('h[0,0] =', h[0])\n",
    "\n",
    "list_ref = []\n",
    "for ref in ref_points:\n",
    "    x,y = transform(ht_ori, ref)\n",
    "    list_ref.append([x,y])\n",
    "    print('pix {}, {} => real: x = {}, y = {}'.format(ref[0], ref[1],x,y))\n"
   ]
  },
  {
   "cell_type": "code",
   "execution_count": 23,
   "metadata": {},
   "outputs": [
    {
     "name": "stdout",
     "output_type": "stream",
     "text": [
      "(4, 1, 2)\n",
      "(4, 1, 2)\n",
      "[[-1.04531209e-01 -1.13764250e-02  1.08849469e+02]\n",
      " [-2.32908171e-02  1.08973823e-01  1.39370889e+00]\n",
      " [-7.08758982e-05  9.21116530e-05  1.00000000e+00]]\n",
      "[[1]\n",
      " [1]\n",
      " [1]\n",
      " [1]]\n"
     ]
    }
   ],
   "source": [
    "pix_p = np.float32([1019, 205, 378, 68, 262, 716, 950, 839]).reshape(-1,1,2)\n",
    "real_p = np.float32([0, 0, 70, 0, 70, 70, 0, 70]).reshape(-1,1,2)\n",
    "print(pix_p.shape)\n",
    "print(real_p.shape)\n",
    "\n",
    "ht, status = cv2.findHomography(pix_p, real_p,cv2.RHO)#cv2.RANSAC)\n",
    "print(ht)\n",
    "print(status)"
   ]
  },
  {
   "cell_type": "code",
   "execution_count": 20,
   "metadata": {},
   "outputs": [
    {
     "name": "stdout",
     "output_type": "stream",
     "text": [
      "[[[19.023264 69.95353 ]]\n",
      "\n",
      " [[40.80521  69.34741 ]]\n",
      "\n",
      " [[35.773975 36.72964 ]]]\n"
     ]
    }
   ],
   "source": [
    "# perspectiveTransform(vSrcPoint, vDstPoint, this->ht);\n",
    "# (4, 1, 2)\n",
    "# (4, 1, 2)\n",
    "# [[-1.04531209e-01 -1.13764250e-02  1.08849469e+02]\n",
    "#  [-2.32908171e-02  1.08973823e-01  1.39370889e+00]\n",
    "#  [-7.08758982e-05  9.21116530e-05  1.00000000e+00]]\n",
    "# [[1]\n",
    "#  [1]\n",
    "#  [1]\n",
    "#  [1]]\n",
    "pts = np.float32([ [768, 806], [556, 762], [650, 462] ]).reshape(-1,1,2)\n",
    "dst = cv2.perspectiveTransform(pts,ht)\n",
    "print(dst)\n",
    "    "
   ]
  },
  {
   "cell_type": "code",
   "execution_count": 24,
   "metadata": {},
   "outputs": [
    {
     "name": "stdout",
     "output_type": "stream",
     "text": [
      "[[-1.04531209e-01 -1.13764250e-02  1.08849469e+02]\n",
      " [-2.32908171e-02  1.08973823e-01  1.39370889e+00]\n",
      " [-7.08758982e-05  9.21116530e-05  1.00000000e+00]]\n"
     ]
    }
   ],
   "source": [
    "M = cv2.getPerspectiveTransform(pix_p, real_p)\n",
    "print(M)"
   ]
  },
  {
   "cell_type": "code",
   "execution_count": null,
   "metadata": {},
   "outputs": [],
   "source": []
  }
 ],
 "metadata": {
  "kernelspec": {
   "display_name": "Python 3",
   "language": "python",
   "name": "python3"
  },
  "language_info": {
   "codemirror_mode": {
    "name": "ipython",
    "version": 3
   },
   "file_extension": ".py",
   "mimetype": "text/x-python",
   "name": "python",
   "nbconvert_exporter": "python",
   "pygments_lexer": "ipython3",
   "version": "3.8.5"
  }
 },
 "nbformat": 4,
 "nbformat_minor": 4
}
